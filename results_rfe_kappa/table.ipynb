{
 "cells": [
  {
   "cell_type": "markdown",
   "id": "24efb2fb",
   "metadata": {},
   "source": [
    "# RFE Cohen Kappa test results\n"
   ]
  },
  {
   "cell_type": "code",
   "execution_count": 4,
   "id": "f7af3a49",
   "metadata": {},
   "outputs": [
    {
     "name": "stdout",
     "output_type": "stream",
     "text": [
      "--- Test Set Performance (Cohen's Kappa Scoring) ---\n"
     ]
    },
    {
     "data": {
      "text/html": [
       "<div>\n",
       "<style scoped>\n",
       "    .dataframe tbody tr th:only-of-type {\n",
       "        vertical-align: middle;\n",
       "    }\n",
       "\n",
       "    .dataframe tbody tr th {\n",
       "        vertical-align: top;\n",
       "    }\n",
       "\n",
       "    .dataframe thead th {\n",
       "        text-align: right;\n",
       "    }\n",
       "</style>\n",
       "<table border=\"1\" class=\"dataframe\">\n",
       "  <thead>\n",
       "    <tr style=\"text-align: right;\">\n",
       "      <th></th>\n",
       "      <th>Dataset</th>\n",
       "      <th>Scoring</th>\n",
       "      <th>Model</th>\n",
       "      <th>Accuracy</th>\n",
       "      <th>ROC-AUC</th>\n",
       "      <th>Precision</th>\n",
       "      <th>Recall</th>\n",
       "      <th>F1 Score</th>\n",
       "      <th>Cohen Kappa</th>\n",
       "      <th>n_features</th>\n",
       "      <th>features</th>\n",
       "    </tr>\n",
       "  </thead>\n",
       "  <tbody>\n",
       "    <tr>\n",
       "      <th>0</th>\n",
       "      <td>Test</td>\n",
       "      <td>cohen_kappa</td>\n",
       "      <td>MoP</td>\n",
       "      <td>0.712230</td>\n",
       "      <td>0.797360</td>\n",
       "      <td>0.727273</td>\n",
       "      <td>0.685714</td>\n",
       "      <td>0.705882</td>\n",
       "      <td>0.424669</td>\n",
       "      <td>21</td>\n",
       "      <td>['Age at recruitment', 'Year of birth', \"Standard PRS for alzheimer's disease (AD)\", 'Townsend deprivation index at recruitment', 'Has_Heart_attack', 'Has_Stroke', 'Has_High_blood_pressure', 'Mean time to correctly identify matches | Instance 0', 'Fluid intelligence score | Instance 0', 'Cholesterol | Instance 0', 'C-reactive protein | Instance 0', 'Glucose | Instance 0', 'Creatinine | Instance 0', 'Pretest_RSA_ln_ms2_Inst0', 'Sex_Female', 'Diabetes_Status_No', 'Alcohol drinker status | Instance 0_Previous', 'Bipolar and major depression status | Instance 0_No Bipolar or Depression', 'Worrier / anxious feelings | Instance 0_Prefer not to answer', 'Hand grip strength | Instance 0', 'Gate_speed_slow']</td>\n",
       "    </tr>\n",
       "    <tr>\n",
       "      <th>1</th>\n",
       "      <td>Test</td>\n",
       "      <td>cohen_kappa</td>\n",
       "      <td>MoE</td>\n",
       "      <td>0.733813</td>\n",
       "      <td>0.780124</td>\n",
       "      <td>0.732394</td>\n",
       "      <td>0.742857</td>\n",
       "      <td>0.737589</td>\n",
       "      <td>0.467543</td>\n",
       "      <td>13</td>\n",
       "      <td>['Age at recruitment', 'Year of birth', 'Townsend deprivation index at recruitment', 'Has_Any_Vascular_Heart_Problem', 'Fluid intelligence score | Instance 0', 'C-reactive protein | Instance 0', 'Glucose | Instance 0', 'Recovery_RSA_ln_ms2_Inst0', 'Alcohol intake frequency. | Instance 0_One to three times a month', 'Bipolar and major depression status | Instance 0_No Bipolar or Depression', 'Bipolar and major depression status | Instance 0_Single Probable major depression episode', 'Single episode of probable major depression | Instance 0_Yes', 'Worrier / anxious feelings | Instance 0_Yes']</td>\n",
       "    </tr>\n",
       "  </tbody>\n",
       "</table>\n",
       "</div>"
      ],
      "text/plain": [
       "  Dataset      Scoring Model  Accuracy   ROC-AUC  Precision    Recall  \\\n",
       "0    Test  cohen_kappa   MoP  0.712230  0.797360   0.727273  0.685714   \n",
       "1    Test  cohen_kappa   MoE  0.733813  0.780124   0.732394  0.742857   \n",
       "\n",
       "   F1 Score  Cohen Kappa  n_features  \\\n",
       "0  0.705882     0.424669          21   \n",
       "1  0.737589     0.467543          13   \n",
       "\n",
       "                                                                                                                                                                                                                                                                                                                                                                                                                                                                                                                                                                                                                                                                                                                               features  \n",
       "0  ['Age at recruitment', 'Year of birth', \"Standard PRS for alzheimer's disease (AD)\", 'Townsend deprivation index at recruitment', 'Has_Heart_attack', 'Has_Stroke', 'Has_High_blood_pressure', 'Mean time to correctly identify matches | Instance 0', 'Fluid intelligence score | Instance 0', 'Cholesterol | Instance 0', 'C-reactive protein | Instance 0', 'Glucose | Instance 0', 'Creatinine | Instance 0', 'Pretest_RSA_ln_ms2_Inst0', 'Sex_Female', 'Diabetes_Status_No', 'Alcohol drinker status | Instance 0_Previous', 'Bipolar and major depression status | Instance 0_No Bipolar or Depression', 'Worrier / anxious feelings | Instance 0_Prefer not to answer', 'Hand grip strength | Instance 0', 'Gate_speed_slow']  \n",
       "1                                                                                                                 ['Age at recruitment', 'Year of birth', 'Townsend deprivation index at recruitment', 'Has_Any_Vascular_Heart_Problem', 'Fluid intelligence score | Instance 0', 'C-reactive protein | Instance 0', 'Glucose | Instance 0', 'Recovery_RSA_ln_ms2_Inst0', 'Alcohol intake frequency. | Instance 0_One to three times a month', 'Bipolar and major depression status | Instance 0_No Bipolar or Depression', 'Bipolar and major depression status | Instance 0_Single Probable major depression episode', 'Single episode of probable major depression | Instance 0_Yes', 'Worrier / anxious feelings | Instance 0_Yes']  "
      ]
     },
     "metadata": {},
     "output_type": "display_data"
    }
   ],
   "source": [
    "import pandas as pd\n",
    "from IPython.display import display\n",
    "\n",
    "# --- show full column content ---\n",
    "pd.set_option('display.max_colwidth', None)\n",
    "pd.set_option('display.max_rows', None)\n",
    "\n",
    "file_path = 'test_results.csv'\n",
    "\n",
    "# Load the CSV file into a pandas DataFrame\n",
    "try:\n",
    "    results_df = pd.read_csv(file_path)\n",
    "    \n",
    "    print(\"--- Test Set Performance (Cohen's Kappa Scoring) ---\")\n",
    "    \n",
    "    # Display the DataFrame as a nicely formatted table\n",
    "    display(results_df)\n",
    "\n",
    "except FileNotFoundError:\n",
    "    print(f\"Error: The file was not found at '{file_path}'\")\n",
    "    print(\"Please make sure the notebook is in the correct parent directory.\")"
   ]
  }
 ],
 "metadata": {
  "kernelspec": {
   "display_name": "Python 3",
   "language": "python",
   "name": "python3"
  },
  "language_info": {
   "codemirror_mode": {
    "name": "ipython",
    "version": 3
   },
   "file_extension": ".py",
   "mimetype": "text/x-python",
   "name": "python",
   "nbconvert_exporter": "python",
   "pygments_lexer": "ipython3",
   "version": "3.8.10"
  }
 },
 "nbformat": 4,
 "nbformat_minor": 5
}
